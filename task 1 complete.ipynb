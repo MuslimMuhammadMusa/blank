{
 "cells": [
  {
   "cell_type": "markdown",
   "id": "06e9e789",
   "metadata": {},
   "source": [
    "Tree one "
   ]
  },
  {
   "cell_type": "code",
   "execution_count": 1,
   "id": "d8e116d1",
   "metadata": {},
   "outputs": [],
   "source": [
    "class TreeNode:\n",
    "    def __init__(self, value):\n",
    "        self.value = value\n",
    "        self.left_child = None\n",
    "        self.right_child = None\n",
    "\n",
    "# create the tree nodes\n",
    "node1 = TreeNode(1)\n",
    "node2 = TreeNode(2)\n",
    "node3 = TreeNode(3)\n",
    "node4 = TreeNode(4)\n",
    "node5 = TreeNode(5)\n",
    "node6 = TreeNode(6)\n",
    "node7 = TreeNode(7)\n",
    "node8 = TreeNode(8)\n",
    "node9 = TreeNode(9)\n",
    "node10 = TreeNode(10)\n",
    "node11 = TreeNode(11)\n",
    "node12 = TreeNode(12)\n",
    "node13 = TreeNode(13)\n",
    "node14 = TreeNode(14)\n",
    "node15 = TreeNode(15)\n",
    "\n",
    "# connect the nodes to form the tree\n",
    "node1.left_child = node2\n",
    "node1.right_child = node3\n",
    "node2.left_child = node4\n",
    "node2.right_child = node5\n",
    "node3.right_child = node6\n",
    "node4.left_child = node7\n",
    "node4.right_child = node8\n",
    "node5.left_child = node9\n",
    "node6.left_child = node13\n",
    "node6.right_child = node14\n",
    "node7.left_child = node11\n",
    "node7.right_child = node12\n",
    "node9.right_child = node10\n",
    "node13.right_child = node15\n"
   ]
  },
  {
   "cell_type": "code",
   "execution_count": 2,
   "id": "887e2267",
   "metadata": {},
   "outputs": [],
   "source": [
    "def bfs(root):\n",
    "    if not root:\n",
    "        return\n",
    "    \n",
    "    queue = [root]\n",
    "    \n",
    "    while queue:\n",
    "        node = queue.pop(0)\n",
    "        print(node.value, end=' ')\n",
    "        \n",
    "        if node.left_child:\n",
    "            queue.append(node.left_child)\n",
    "        if node.right_child:\n",
    "            queue.append(node.right_child)\n"
   ]
  },
  {
   "cell_type": "code",
   "execution_count": 3,
   "id": "2010af44",
   "metadata": {},
   "outputs": [
    {
     "name": "stdout",
     "output_type": "stream",
     "text": [
      "1 2 3 4 5 6 7 8 9 13 14 11 12 10 15 "
     ]
    }
   ],
   "source": [
    "bfs(node1)  # output: 1 2 3 4 5 6 7 8 9 13 14 11 12 10 15\n"
   ]
  },
  {
   "cell_type": "code",
   "execution_count": 4,
   "id": "5fde0c18",
   "metadata": {},
   "outputs": [],
   "source": [
    "def dfs(node):\n",
    "    if not node:\n",
    "        return\n",
    "    \n",
    "    print(node.value, end=' ')\n",
    "    \n",
    "    dfs(node.left_child)\n",
    "    dfs(node.right_child)\n"
   ]
  },
  {
   "cell_type": "code",
   "execution_count": 5,
   "id": "ba49a6b6",
   "metadata": {},
   "outputs": [
    {
     "name": "stdout",
     "output_type": "stream",
     "text": [
      "1 2 4 7 11 12 8 5 9 10 3 6 13 15 14 "
     ]
    }
   ],
   "source": [
    "dfs(node1)  # output: 1 2 4 7 11 12 8 5 9 10 3 6 13 15 14\n"
   ]
  },
  {
   "cell_type": "markdown",
   "id": "76f132f0",
   "metadata": {},
   "source": [
    "Graph one "
   ]
  },
  {
   "cell_type": "code",
   "execution_count": 6,
   "id": "53c4fb12",
   "metadata": {},
   "outputs": [],
   "source": [
    "class Graph:\n",
    "    def __init__(self, num_vertices):\n",
    "        self.num_vertices = num_vertices\n",
    "        self.adj_list = [[] for _ in range(num_vertices)]\n",
    "        \n",
    "    def add_edge(self, src, dest):\n",
    "        self.adj_list[src].append(dest)\n",
    "        self.adj_list[dest].append(src)\n",
    "\n",
    "# create the graph with 9 nodes and add edges\n",
    "graph = Graph(9)\n",
    "graph.add_edge(0, 1)\n",
    "graph.add_edge(1, 2)\n",
    "graph.add_edge(1, 3)\n",
    "graph.add_edge(2, 4)\n",
    "graph.add_edge(2, 5)\n",
    "graph.add_edge(3, 6)\n",
    "graph.add_edge(3, 7)\n",
    "graph.add_edge(5, 8)\n"
   ]
  },
  {
   "cell_type": "code",
   "execution_count": 7,
   "id": "5f58295c",
   "metadata": {},
   "outputs": [],
   "source": [
    "def bfs(graph, start):\n",
    "    visited = [False] * graph.num_vertices\n",
    "    queue = [start]\n",
    "    visited[start] = True\n",
    "    \n",
    "    while queue:\n",
    "        vertex = queue.pop(0)\n",
    "        print(vertex, end=' ')\n",
    "        \n",
    "        for neighbor in graph.adj_list[vertex]:\n",
    "            if not visited[neighbor]:\n",
    "                visited[neighbor] = True\n",
    "                queue.append(neighbor)\n"
   ]
  },
  {
   "cell_type": "code",
   "execution_count": 8,
   "id": "4f3391e7",
   "metadata": {},
   "outputs": [
    {
     "name": "stdout",
     "output_type": "stream",
     "text": [
      "0 1 2 3 4 5 6 7 8 "
     ]
    }
   ],
   "source": [
    "bfs(graph, 0)  # output: 0 1 6 3 2 7 5 4 8\n"
   ]
  },
  {
   "cell_type": "code",
   "execution_count": 9,
   "id": "e29b8a99",
   "metadata": {},
   "outputs": [],
   "source": [
    "def dfs(graph, vertex, visited):\n",
    "    visited[vertex] = True\n",
    "    print(vertex, end=' ')\n",
    "    \n",
    "    for neighbor in graph.adj_list[vertex]:\n",
    "        if not visited[neighbor]:\n",
    "            dfs(graph, neighbor, visited)\n"
   ]
  },
  {
   "cell_type": "code",
   "execution_count": 10,
   "id": "91f91ab9",
   "metadata": {},
   "outputs": [
    {
     "name": "stdout",
     "output_type": "stream",
     "text": [
      "0 1 2 4 5 8 3 6 7 "
     ]
    }
   ],
   "source": [
    "visited = [False] * graph.num_vertices\n",
    "dfs(graph, 0, visited)  # output: 0 1 2 4 5 8 3 6 7\n"
   ]
  },
  {
   "cell_type": "markdown",
   "id": "beed54ef",
   "metadata": {},
   "source": [
    "task one completed"
   ]
  },
  {
   "cell_type": "code",
   "execution_count": null,
   "id": "0d065a35",
   "metadata": {},
   "outputs": [],
   "source": []
  }
 ],
 "metadata": {
  "kernelspec": {
   "display_name": "Python 3 (ipykernel)",
   "language": "python",
   "name": "python3"
  },
  "language_info": {
   "codemirror_mode": {
    "name": "ipython",
    "version": 3
   },
   "file_extension": ".py",
   "mimetype": "text/x-python",
   "name": "python",
   "nbconvert_exporter": "python",
   "pygments_lexer": "ipython3",
   "version": "3.10.7"
  }
 },
 "nbformat": 4,
 "nbformat_minor": 5
}
