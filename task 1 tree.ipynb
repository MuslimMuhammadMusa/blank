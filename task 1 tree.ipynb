{
 "cells": [
  {
   "cell_type": "code",
   "execution_count": 1,
   "id": "8b44f59f",
   "metadata": {},
   "outputs": [],
   "source": [
    "class Node:\n",
    "    def __init__(self, value):\n",
    "        self.value = value\n",
    "        self.left = None\n",
    "        self.right = None\n",
    "\n",
    "# Define the nodes of the binary tree\n",
    "root = Node(1)\n",
    "root.left = Node(2)\n",
    "root.right = Node(3)\n",
    "root.left.left = Node(4)\n",
    "root.left.right = Node(5)\n",
    "root.right.left = Node(6)\n",
    "root.right.right = Node(7)\n",
    "root.left.left.left = Node(8)\n",
    "root.left.left.right = Node(9)\n",
    "root.left.right.left = Node(10)\n",
    "root.left.right.right = Node(11)\n",
    "root.left.left.right.left = Node(12)\n",
    "root.left.left.right.right = Node(13)\n",
    "root.left.left.right.right.left = Node(14)\n",
    "root.left.left.right.right.left.left = Node(15)\n"
   ]
  },
  {
   "cell_type": "code",
   "execution_count": 3,
   "id": "591c9e96",
   "metadata": {},
   "outputs": [
    {
     "name": "stdout",
     "output_type": "stream",
     "text": [
      "1\n",
      "2\n",
      "3\n",
      "4\n",
      "5\n",
      "6\n",
      "7\n",
      "8\n",
      "9\n",
      "10\n",
      "11\n",
      "12\n",
      "13\n",
      "14\n",
      "15\n"
     ]
    }
   ],
   "source": [
    "from collections import deque\n",
    "\n",
    "def bfs(root):\n",
    "    # Create an empty queue and enqueue the root node\n",
    "    queue = deque()\n",
    "    queue.append(root)\n",
    "\n",
    "    # Traverse the tree level by level\n",
    "    while queue:\n",
    "        # Dequeue a node from the front of the queue\n",
    "        node = queue.popleft()\n",
    "\n",
    "        # Process the node\n",
    "        print(node.value)\n",
    "\n",
    "        # Enqueue the left child if it exists\n",
    "        if node.left:\n",
    "            queue.append(node.left)\n",
    "\n",
    "        # Enqueue the right child if it exists\n",
    "        if node.right:\n",
    "            queue.append(node.right)\n",
    "bfs(root)\n"
   ]
  },
  {
   "cell_type": "code",
   "execution_count": 5,
   "id": "5d1ff59b",
   "metadata": {},
   "outputs": [],
   "source": [
    "def dfs_preorder(node):\n",
    "    if node is None:\n",
    "        return\n",
    "    print(node.value)\n",
    "    dfs_preorder(node.left)\n",
    "    dfs_preorder(node.right)\n",
    "\n",
    "def dfs_inorder(node):\n",
    "    if node is None:\n",
    "        return\n",
    "    dfs_inorder(node.left)\n",
    "    print(node.value)\n",
    "    dfs_inorder(node.right)\n",
    "\n",
    "def dfs_postorder(node):\n",
    "    if node is None:\n",
    "        return\n",
    "    dfs_postorder(node.left)\n",
    "    dfs_postorder(node.right)\n",
    "    print(node.value)\n"
   ]
  },
  {
   "cell_type": "code",
   "execution_count": 6,
   "id": "98727fb4",
   "metadata": {},
   "outputs": [
    {
     "name": "stdout",
     "output_type": "stream",
     "text": [
      "DFS Preorder:\n",
      "1\n",
      "2\n",
      "4\n",
      "8\n",
      "9\n",
      "12\n",
      "13\n",
      "14\n",
      "15\n",
      "5\n",
      "10\n",
      "11\n",
      "3\n",
      "6\n",
      "7\n",
      "DFS Inorder:\n",
      "8\n",
      "4\n",
      "12\n",
      "9\n",
      "15\n",
      "14\n",
      "13\n",
      "2\n",
      "10\n",
      "5\n",
      "11\n",
      "1\n",
      "6\n",
      "3\n",
      "7\n",
      "DFS Postorder:\n",
      "8\n",
      "12\n",
      "15\n",
      "14\n",
      "13\n",
      "9\n",
      "4\n",
      "10\n",
      "11\n",
      "5\n",
      "2\n",
      "6\n",
      "7\n",
      "3\n",
      "1\n"
     ]
    }
   ],
   "source": [
    "print(\"DFS Preorder:\")\n",
    "dfs_preorder(root)\n",
    "\n",
    "print(\"DFS Inorder:\")\n",
    "dfs_inorder(root)\n",
    "\n",
    "print(\"DFS Postorder:\")\n",
    "dfs_postorder(root)\n"
   ]
  },
  {
   "cell_type": "code",
   "execution_count": null,
   "id": "3967d7f4",
   "metadata": {},
   "outputs": [],
   "source": []
  }
 ],
 "metadata": {
  "kernelspec": {
   "display_name": "Python 3 (ipykernel)",
   "language": "python",
   "name": "python3"
  },
  "language_info": {
   "codemirror_mode": {
    "name": "ipython",
    "version": 3
   },
   "file_extension": ".py",
   "mimetype": "text/x-python",
   "name": "python",
   "nbconvert_exporter": "python",
   "pygments_lexer": "ipython3",
   "version": "3.10.7"
  }
 },
 "nbformat": 4,
 "nbformat_minor": 5
}
