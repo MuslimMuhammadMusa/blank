{
 "cells": [
  {
   "cell_type": "code",
   "execution_count": null,
   "id": "05b3eb28",
   "metadata": {},
   "outputs": [],
   "source": []
  },
  {
   "cell_type": "code",
   "execution_count": null,
   "id": "dc087e03",
   "metadata": {},
   "outputs": [],
   "source": []
  },
  {
   "cell_type": "code",
   "execution_count": null,
   "id": "944a39ad",
   "metadata": {},
   "outputs": [],
   "source": []
  },
  {
   "cell_type": "code",
   "execution_count": 6,
   "id": "84f8541c",
   "metadata": {},
   "outputs": [
    {
     "name": "stdout",
     "output_type": "stream",
     "text": [
      "[1, 0, 0, 0]\n",
      "[1, 0, 0, 0]\n",
      "[1, 0, 0, 0]\n",
      "[1, 0, 0, 0]\n"
     ]
    }
   ],
   "source": [
    "from queue import Queue\n",
    "\n",
    "class NQueens:\n",
    "    def __init__(self, n):\n",
    "        self.n = n\n",
    "        self.board = [[0 for j in range(n)] for i in range(n)]\n",
    "    \n",
    "    def is_safe(self, row, col):\n",
    "        # Check if the column is safe\n",
    "        for i in range(row):\n",
    "            if self.board[i][col] == 1:\n",
    "                return False\n",
    "        \n",
    "        # Check if the diagonal is safe\n",
    "        for i, j in zip(range(row, -1, -1), range(col, -1, -1)):\n",
    "            if self.board[i][j] == 1:\n",
    "                return False\n",
    "        for i, j in zip(range(row, -1, -1), range(col, self.n)):\n",
    "            if self.board[i][j] == 1:\n",
    "                return False\n",
    "        \n",
    "        return True\n",
    "    \n",
    "    def bfs(self):\n",
    "        q = Queue()\n",
    "        q.put(self.board)\n",
    "        \n",
    "        while not q.empty():\n",
    "            board = q.get()\n",
    "            \n",
    "            # Check if the board is a solution\n",
    "            if sum([sum(row) for row in board]) == self.n:\n",
    "                return board\n",
    "            \n",
    "            # Generate all possible configurations with one more queen\n",
    "            for i in range(self.n):\n",
    "                if self.is_safe(sum([sum(row) for row in board]), i):\n",
    "                    new_board = [row[:] for row in board]\n",
    "                    new_board[sum([sum(row) for row in board])][i] = 1\n",
    "                    q.put(new_board)\n",
    "        \n",
    "        return None\n",
    "\n",
    "# Test the BFS algorithm for N=4\n",
    "n_queens = NQueens(4)\n",
    "solution = n_queens.bfs()\n",
    "if solution:\n",
    "    for row in solution:\n",
    "        print(row)\n",
    "else:\n",
    "    print(\"No solution found\")\n"
   ]
  },
  {
   "cell_type": "code",
   "execution_count": null,
   "id": "eb60c771",
   "metadata": {},
   "outputs": [],
   "source": []
  },
  {
   "cell_type": "code",
   "execution_count": null,
   "id": "a38a190f",
   "metadata": {},
   "outputs": [],
   "source": []
  },
  {
   "cell_type": "code",
   "execution_count": null,
   "id": "cdc64fc0",
   "metadata": {},
   "outputs": [],
   "source": []
  },
  {
   "cell_type": "code",
   "execution_count": 7,
   "id": "8c4d5650",
   "metadata": {},
   "outputs": [
    {
     "name": "stdout",
     "output_type": "stream",
     "text": [
      "BFS solution:\n",
      "Q . . . . . . .\n",
      ". . . . Q . . .\n",
      ". . . . . . . Q\n",
      ". . . . . Q . .\n",
      ". . Q . . . . .\n",
      ". . . . . . Q .\n",
      ". Q . . . . . .\n",
      ". . . Q . . . .\n",
      "\n"
     ]
    },
    {
     "ename": "TypeError",
     "evalue": "'<' not supported between instances of 'Node' and 'Node'",
     "output_type": "error",
     "traceback": [
      "\u001b[1;31m---------------------------------------------------------------------------\u001b[0m",
      "\u001b[1;31mTypeError\u001b[0m                                 Traceback (most recent call last)",
      "Cell \u001b[1;32mIn[7], line 67\u001b[0m\n\u001b[0;32m     65\u001b[0m print_solution(bfs_node)\n\u001b[0;32m     66\u001b[0m \u001b[38;5;28mprint\u001b[39m()\n\u001b[1;32m---> 67\u001b[0m ucs_node \u001b[38;5;241m=\u001b[39m \u001b[43mucs\u001b[49m\u001b[43m(\u001b[49m\u001b[43mn\u001b[49m\u001b[43m)\u001b[49m\n\u001b[0;32m     68\u001b[0m \u001b[38;5;28mprint\u001b[39m(\u001b[38;5;124m\"\u001b[39m\u001b[38;5;124mUCS solution:\u001b[39m\u001b[38;5;124m\"\u001b[39m)\n\u001b[0;32m     69\u001b[0m print_solution(ucs_node)\n",
      "Cell \u001b[1;32mIn[7], line 52\u001b[0m, in \u001b[0;36mucs\u001b[1;34m(n)\u001b[0m\n\u001b[0;32m     50\u001b[0m explored\u001b[38;5;241m.\u001b[39madd(\u001b[38;5;28mtuple\u001b[39m(successor))\n\u001b[0;32m     51\u001b[0m priority \u001b[38;5;241m=\u001b[39m \u001b[38;5;28mlen\u001b[39m(node\u001b[38;5;241m.\u001b[39mstate) \u001b[38;5;241m+\u001b[39m \u001b[38;5;241m1\u001b[39m\n\u001b[1;32m---> 52\u001b[0m \u001b[43mfrontier\u001b[49m\u001b[38;5;241;43m.\u001b[39;49m\u001b[43mput\u001b[49m\u001b[43m(\u001b[49m\u001b[43m(\u001b[49m\u001b[43mpriority\u001b[49m\u001b[43m,\u001b[49m\u001b[43m \u001b[49m\u001b[43mNode\u001b[49m\u001b[43m(\u001b[49m\u001b[43msuccessor\u001b[49m\u001b[43m,\u001b[49m\u001b[43m \u001b[49m\u001b[43mnode\u001b[49m\u001b[43m)\u001b[49m\u001b[43m)\u001b[49m\u001b[43m)\u001b[49m\n",
      "File \u001b[1;32m~\\Desktop\\pythonfiles\\Lib\\queue.py:150\u001b[0m, in \u001b[0;36mQueue.put\u001b[1;34m(self, item, block, timeout)\u001b[0m\n\u001b[0;32m    148\u001b[0m                 \u001b[38;5;28;01mraise\u001b[39;00m Full\n\u001b[0;32m    149\u001b[0m             \u001b[38;5;28mself\u001b[39m\u001b[38;5;241m.\u001b[39mnot_full\u001b[38;5;241m.\u001b[39mwait(remaining)\n\u001b[1;32m--> 150\u001b[0m \u001b[38;5;28;43mself\u001b[39;49m\u001b[38;5;241;43m.\u001b[39;49m\u001b[43m_put\u001b[49m\u001b[43m(\u001b[49m\u001b[43mitem\u001b[49m\u001b[43m)\u001b[49m\n\u001b[0;32m    151\u001b[0m \u001b[38;5;28mself\u001b[39m\u001b[38;5;241m.\u001b[39munfinished_tasks \u001b[38;5;241m+\u001b[39m\u001b[38;5;241m=\u001b[39m \u001b[38;5;241m1\u001b[39m\n\u001b[0;32m    152\u001b[0m \u001b[38;5;28mself\u001b[39m\u001b[38;5;241m.\u001b[39mnot_empty\u001b[38;5;241m.\u001b[39mnotify()\n",
      "File \u001b[1;32m~\\Desktop\\pythonfiles\\Lib\\queue.py:236\u001b[0m, in \u001b[0;36mPriorityQueue._put\u001b[1;34m(self, item)\u001b[0m\n\u001b[0;32m    235\u001b[0m \u001b[38;5;28;01mdef\u001b[39;00m \u001b[38;5;21m_put\u001b[39m(\u001b[38;5;28mself\u001b[39m, item):\n\u001b[1;32m--> 236\u001b[0m     \u001b[43mheappush\u001b[49m\u001b[43m(\u001b[49m\u001b[38;5;28;43mself\u001b[39;49m\u001b[38;5;241;43m.\u001b[39;49m\u001b[43mqueue\u001b[49m\u001b[43m,\u001b[49m\u001b[43m \u001b[49m\u001b[43mitem\u001b[49m\u001b[43m)\u001b[49m\n",
      "\u001b[1;31mTypeError\u001b[0m: '<' not supported between instances of 'Node' and 'Node'"
     ]
    }
   ],
   "source": [
    "from queue import Queue, PriorityQueue\n",
    "\n",
    "class Node:\n",
    "    def __init__(self, state, parent=None):\n",
    "        self.state = state\n",
    "        self.parent = parent\n",
    "\n",
    "def is_valid(state, row, col):\n",
    "    for r, c in state:\n",
    "        if c == col or r - c == row - col or r + c == row + col:\n",
    "            return False\n",
    "    return True\n",
    "\n",
    "def get_successors(state, n):\n",
    "    successors = []\n",
    "    if len(state) == n:\n",
    "        return successors\n",
    "    for col in range(n):\n",
    "        if is_valid(state, len(state), col):\n",
    "            successors.append(state + [(len(state), col)])\n",
    "    return successors\n",
    "\n",
    "def bfs(n):\n",
    "    start = []\n",
    "    frontier = Queue()\n",
    "    frontier.put(Node(start))\n",
    "    explored = set()\n",
    "    while not frontier.empty():\n",
    "        node = frontier.get()\n",
    "        state = node.state\n",
    "        if len(state) == n:\n",
    "            return node\n",
    "        for successor in get_successors(state, n):\n",
    "            if tuple(successor) not in explored:\n",
    "                explored.add(tuple(successor))\n",
    "                frontier.put(Node(successor, node))\n",
    "\n",
    "def ucs(n):\n",
    "    start = []\n",
    "    frontier = PriorityQueue()\n",
    "    frontier.put((0, Node(start)))  # (priority, node)\n",
    "    explored = set()\n",
    "    while not frontier.empty():\n",
    "        node = frontier.get()[1]\n",
    "        state = node.state\n",
    "        if len(state) == n:\n",
    "            return node\n",
    "        for successor in get_successors(state, n):\n",
    "            if tuple(successor) not in explored:\n",
    "                explored.add(tuple(successor))\n",
    "                priority = len(node.state) + 1\n",
    "                frontier.put((priority, Node(successor, node)))\n",
    "\n",
    "def print_solution(node):\n",
    "    board = [['.' for _ in range(len(node.state))] for _ in range(len(node.state))]\n",
    "    for row, col in node.state:\n",
    "        board[row][col] = 'Q'\n",
    "    for row in board:\n",
    "        print(' '.join(row))\n",
    "\n",
    "# Test the algorithms on an 8x8 chessboard\n",
    "n = 8\n",
    "bfs_node = bfs(n)\n",
    "print(\"BFS solution:\")\n",
    "print_solution(bfs_node)\n",
    "print()\n",
    "ucs_node = ucs(n)\n",
    "print(\"UCS solution:\")\n",
    "print_solution(ucs_node)\n"
   ]
  },
  {
   "cell_type": "code",
   "execution_count": null,
   "id": "d18dc7d3",
   "metadata": {},
   "outputs": [],
   "source": []
  },
  {
   "cell_type": "code",
   "execution_count": null,
   "id": "dfc3fd56",
   "metadata": {},
   "outputs": [],
   "source": []
  },
  {
   "cell_type": "code",
   "execution_count": null,
   "id": "8aba7bd4",
   "metadata": {},
   "outputs": [],
   "source": []
  }
 ],
 "metadata": {
  "kernelspec": {
   "display_name": "Python 3 (ipykernel)",
   "language": "python",
   "name": "python3"
  },
  "language_info": {
   "codemirror_mode": {
    "name": "ipython",
    "version": 3
   },
   "file_extension": ".py",
   "mimetype": "text/x-python",
   "name": "python",
   "nbconvert_exporter": "python",
   "pygments_lexer": "ipython3",
   "version": "3.11.2"
  }
 },
 "nbformat": 4,
 "nbformat_minor": 5
}
