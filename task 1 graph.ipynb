{
 "cells": [
  {
   "cell_type": "code",
   "execution_count": 1,
   "id": "265af92b",
   "metadata": {},
   "outputs": [],
   "source": [
    "graph = {\n",
    "    1: [2, 3],\n",
    "    2: [1, 4, 5],\n",
    "    3: [1, 5],\n",
    "    4: [2, 5],\n",
    "    5: [2, 3, 4]\n",
    "}\n"
   ]
  },
  {
   "cell_type": "code",
   "execution_count": 2,
   "id": "bc5ca9d2",
   "metadata": {},
   "outputs": [],
   "source": [
    "from collections import deque\n",
    "\n",
    "def bfs(graph, start):\n",
    "    # Create an empty queue and enqueue the start node\n",
    "    queue = deque()\n",
    "    queue.append(start)\n",
    "\n",
    "    # Create a set to keep track of visited nodes\n",
    "    visited = set()\n",
    "\n",
    "    # Traverse the graph level by level\n",
    "    while queue:\n",
    "        # Dequeue a node from the front of the queue\n",
    "        node = queue.popleft()\n",
    "\n",
    "        # Process the node if it hasn't been visited yet\n",
    "        if node not in visited:\n",
    "            print(node)\n",
    "\n",
    "            # Mark the node as visited\n",
    "            visited.add(node)\n",
    "\n",
    "            # Enqueue the neighbors of the node\n",
    "            for neighbor in graph[node]:\n",
    "                queue.append(neighbor)\n"
   ]
  },
  {
   "cell_type": "code",
   "execution_count": 3,
   "id": "da155da4",
   "metadata": {},
   "outputs": [
    {
     "name": "stdout",
     "output_type": "stream",
     "text": [
      "1\n",
      "2\n",
      "3\n",
      "4\n",
      "5\n"
     ]
    }
   ],
   "source": [
    "bfs(graph, 1)\n"
   ]
  },
  {
   "cell_type": "code",
   "execution_count": 4,
   "id": "984c613a",
   "metadata": {},
   "outputs": [],
   "source": [
    "def dfs(graph, node, visited=None):\n",
    "    # Create a set to keep track of visited nodes\n",
    "    if visited is None:\n",
    "        visited = set()\n",
    "\n",
    "    # Process the node if it hasn't been visited yet\n",
    "    if node not in visited:\n",
    "        print(node)\n",
    "\n",
    "        # Mark the node as visited\n",
    "        visited.add(node)\n",
    "\n",
    "        # Recursively visit the unvisited neighbors of the node\n",
    "        for neighbor in graph[node]:\n",
    "            dfs(graph, neighbor, visited)\n",
    "\n",
    "\n"
   ]
  },
  {
   "cell_type": "code",
   "execution_count": 5,
   "id": "d411d969",
   "metadata": {},
   "outputs": [
    {
     "name": "stdout",
     "output_type": "stream",
     "text": [
      "1\n",
      "2\n",
      "4\n",
      "5\n",
      "3\n"
     ]
    }
   ],
   "source": [
    "dfs(graph, 1)\n"
   ]
  },
  {
   "cell_type": "code",
   "execution_count": null,
   "id": "599aec21",
   "metadata": {},
   "outputs": [],
   "source": []
  }
 ],
 "metadata": {
  "kernelspec": {
   "display_name": "Python 3 (ipykernel)",
   "language": "python",
   "name": "python3"
  },
  "language_info": {
   "codemirror_mode": {
    "name": "ipython",
    "version": 3
   },
   "file_extension": ".py",
   "mimetype": "text/x-python",
   "name": "python",
   "nbconvert_exporter": "python",
   "pygments_lexer": "ipython3",
   "version": "3.10.7"
  }
 },
 "nbformat": 4,
 "nbformat_minor": 5
}
